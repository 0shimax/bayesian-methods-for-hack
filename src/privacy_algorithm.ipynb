{
 "cells": [
  {
   "cell_type": "code",
   "execution_count": 1,
   "metadata": {},
   "outputs": [],
   "source": [
    "%matplotlib inline\n",
    "import matplotlib.pyplot as plt\n",
    "plt.style.use('ggplot')\n",
    "import numpy as np\n",
    "np.random.seed(555)\n",
    "import pystan"
   ]
  },
  {
   "cell_type": "code",
   "execution_count": 16,
   "metadata": {},
   "outputs": [],
   "source": [
    "stan_code = \"\"\"\n",
    "data {\n",
    "    int N;\n",
    "    int y;\n",
    "}\n",
    "\n",
    "parameters {\n",
    "    real<lower=0> p;\n",
    "}\n",
    "\n",
    "transformed parameters {\n",
    "    real p_skewed;\n",
    "    p_skewed = 0.5*p + 0.25;\n",
    "}\n",
    "\n",
    "model {\n",
    "    p ~ uniform(0, 1);\n",
    "    y ~ binomial(N, p_skewed);\n",
    "}\n",
    "\"\"\""
   ]
  },
  {
   "cell_type": "code",
   "execution_count": 17,
   "metadata": {},
   "outputs": [
    {
     "name": "stderr",
     "output_type": "stream",
     "text": [
      "INFO:pystan:COMPILING THE C++ CODE FOR MODEL anon_model_a54d06b996359366a7f68f417f4dbda2 NOW.\n"
     ]
    }
   ],
   "source": [
    "stan_model = pystan.StanModel(model_code=stan_code)"
   ]
  },
  {
   "cell_type": "code",
   "execution_count": 18,
   "metadata": {},
   "outputs": [],
   "source": [
    "stan_data = {\n",
    "    'N': 100,\n",
    "    'y': 35\n",
    "}"
   ]
  },
  {
   "cell_type": "code",
   "execution_count": 21,
   "metadata": {},
   "outputs": [
    {
     "data": {
      "text/plain": [
       "Inference for Stan model: anon_model_a54d06b996359366a7f68f417f4dbda2.\n",
       "4 chains, each with iter=1000; warmup=100; thin=1; \n",
       "post-warmup draws per chain=900, total post-warmup draws=3600.\n",
       "\n",
       "           mean se_mean     sd   2.5%    25%    50%    75%  97.5%  n_eff   Rhat\n",
       "p          0.21  3.4e-3   0.09   0.04   0.14    0.2   0.27   0.39    704   1.01\n",
       "p_skewed   0.35  1.7e-3   0.05   0.27   0.32   0.35   0.38   0.44    704   1.01\n",
       "lp__     -66.91    0.04   0.89 -69.63 -67.14 -66.55 -66.31 -66.26    504    1.0\n",
       "\n",
       "Samples were drawn using NUTS at Mon Feb  5 22:18:42 2018.\n",
       "For each parameter, n_eff is a crude measure of effective sample size,\n",
       "and Rhat is the potential scale reduction factor on split chains (at \n",
       "convergence, Rhat=1)."
      ]
     },
     "execution_count": 21,
     "metadata": {},
     "output_type": "execute_result"
    }
   ],
   "source": [
    "# op = stan_model.optimizing(data=stan_data)\n",
    "# init_params = {'N': op.get('N'), 'y': op.get('y')}\n",
    "# init_list = [init_params]*4\n",
    "\n",
    "results = stan_model.sampling(data=stan_data, iter=1000, chains=4, seed=555, thin=1, warmup=100, n_jobs=-1)\n",
    "results"
   ]
  },
  {
   "cell_type": "code",
   "execution_count": 33,
   "metadata": {},
   "outputs": [
    {
     "data": {
      "text/plain": [
       "(array([2.08860759e-01, 2.27848101e-01, 6.45569620e-01, 1.31012658e+00,\n",
       "        2.79113924e+00, 4.00632911e+00, 7.12025316e+00, 1.50759494e+01,\n",
       "        1.90253165e+01, 2.47025316e+01, 3.21075949e+01, 4.72405063e+01,\n",
       "        4.38607595e+01, 4.59113924e+01, 4.45632911e+01, 5.15316456e+01,\n",
       "        3.53734177e+01, 2.96012658e+01, 2.72468354e+01, 1.55696203e+01,\n",
       "        1.15632911e+01, 6.24683544e+00, 4.57594937e+00, 1.97468354e+00,\n",
       "        1.02531646e+00, 6.45569620e-01, 2.65822785e-01, 1.51898734e-01,\n",
       "        3.79746835e-02, 7.59493671e-02]),\n",
       " array([0.1808    , 0.18290667, 0.18501333, 0.18712   , 0.18922667,\n",
       "        0.19133333, 0.19344   , 0.19554667, 0.19765333, 0.19976   ,\n",
       "        0.20186667, 0.20397333, 0.20608   , 0.20818667, 0.21029333,\n",
       "        0.2124    , 0.21450667, 0.21661333, 0.21872   , 0.22082667,\n",
       "        0.22293333, 0.22504   , 0.22714667, 0.22925333, 0.23136   ,\n",
       "        0.23346667, 0.23557333, 0.23768   , 0.23978667, 0.24189333,\n",
       "        0.244     ]),\n",
       " <a list of 30 Patch objects>)"
      ]
     },
     "execution_count": 33,
     "metadata": {},
     "output_type": "execute_result"
    },
    {
     "data": {
      "image/png": "[encoded data removed]",
      "text/plain": [
       "<matplotlib.figure.Figure at 0x1c8c74c0ac8>"
      ]
     },
     "metadata": {},
     "output_type": "display_data"
    }
   ],
   "source": [
    "plt.hist(np.random.binomial(2500, 0.21, 25000)/2500, bins=30, normed=True)"
   ]
  },
  {
   "cell_type": "code",
   "execution_count": null,
   "metadata": {},
   "outputs": [],
   "source": []
  }
 ],
 "metadata": {
  "kernelspec": {
   "display_name": "Python 3",
   "language": "python",
   "name": "python3"
  }
 },
 "nbformat": 4,
 "nbformat_minor": 2
}

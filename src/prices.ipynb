{
 "cells": [
  {
   "cell_type": "code",
   "execution_count": 1,
   "metadata": {},
   "outputs": [],
   "source": [
    "%matplotlib inline\n",
    "import matplotlib.pyplot as plt\n",
    "plt.style.use('ggplot')\n",
    "import numpy as np\n",
    "np.random.seed(555)\n",
    "import pystan"
   ]
  },
  {
   "cell_type": "code",
   "execution_count": 2,
   "metadata": {},
   "outputs": [],
   "source": [
    "data_mu = [3e3, 12e3]\n",
    "data_std = [5e2, 3e3]\n",
    "mu_prior = 35e3\n",
    "std_prior = 75e2\n",
    "\n",
    "# true_price = np.random.normal(mu_prior, std_prior)"
   ]
  },
  {
   "cell_type": "code",
   "execution_count": 7,
   "metadata": {},
   "outputs": [],
   "source": [
    "stan_code = \"\"\"\n",
    "\n",
    "parameters {\n",
    "    real<lower=0> true_price;\n",
    "    real<lower=0> prize_1;\n",
    "    real<lower=0> prize_2;\n",
    "}\n",
    "\n",
    "transformed parameters {\n",
    "    real<lower=0> price_estimate;\n",
    "    price_estimate = prize_1 + prize_2;\n",
    "}\n",
    "\n",
    "model {\n",
    "    true_price ~ normal(35e3, 75e2);\n",
    "    prize_1 ~ normal(3e3, 5e2);\n",
    "    prize_2 ~ normal(12e3, 12e3);\n",
    "\n",
    "    target += normal_lpdf(true_price | 35e3, 75e2);\n",
    "}\n",
    "\"\"\""
   ]
  },
  {
   "cell_type": "code",
   "execution_count": 8,
   "metadata": {},
   "outputs": [
    {
     "name": "stderr",
     "output_type": "stream",
     "text": [
      "INFO:pystan:COMPILING THE C++ CODE FOR MODEL anon_model_7b70111ff47034aa2a2d4d1730c695ec NOW.\n"
     ]
    }
   ],
   "source": [
    "model = pystan.StanModel(model_code=stan_code)"
   ]
  },
  {
   "cell_type": "code",
   "execution_count": 9,
   "metadata": {},
   "outputs": [
    {
     "data": {
      "text/plain": [
       "Inference for Stan model: anon_model_7b70111ff47034aa2a2d4d1730c695ec.\n",
       "4 chains, each with iter=1000; warmup=100; thin=1; \n",
       "post-warmup draws per chain=900, total post-warmup draws=3600.\n",
       "\n",
       "                 mean se_mean     sd   2.5%    25%    50%    75%  97.5%  n_eff   Rhat\n",
       "true_price      3.5e4   87.02 5221.1  2.5e4  3.2e4  3.5e4  3.9e4  4.5e4   3600    1.0\n",
       "prize_1        3002.6    8.97 500.37 1999.1 2676.1 3004.5 3340.0 3947.6   3115    1.0\n",
       "prize_2         1.6e4  429.07 9756.0 984.28 7886.6  1.4e4  2.2e4  3.6e4    517   1.01\n",
       "price_estimate  1.9e4  430.02 9777.6 3921.6  1.1e4  1.7e4  2.5e4  3.9e4    517   1.01\n",
       "lp__             16.6    0.06   1.37  13.27  15.88  16.97  17.64  18.21    584    1.0\n",
       "\n",
       "Samples were drawn using NUTS at Wed Feb  7 18:00:43 2018.\n",
       "For each parameter, n_eff is a crude measure of effective sample size,\n",
       "and Rhat is the potential scale reduction factor on split chains (at \n",
       "convergence, Rhat=1)."
      ]
     },
     "execution_count": 9,
     "metadata": {},
     "output_type": "execute_result"
    }
   ],
   "source": [
    "fit = model.sampling(iter=1000, chains=4, seed=555, thin=1, warmup=100, n_jobs=-1)\n",
    "fit"
   ]
  },
  {
   "cell_type": "code",
   "execution_count": null,
   "metadata": {},
   "outputs": [],
   "source": []
  }
 ],
 "metadata": {
  "kernelspec": {
   "display_name": "Python 3",
   "language": "python",
   "name": "python3"
  },
  "language_info": {
   "codemirror_mode": {
    "name": "ipython",
    "version": 3
   },
   "file_extension": ".py",
   "mimetype": "text/x-python",
   "name": "python",
   "nbconvert_exporter": "python",
   "pygments_lexer": "ipython3",
   "version": "3.6.4"
  }
 },
 "nbformat": 4,
 "nbformat_minor": 2
}
